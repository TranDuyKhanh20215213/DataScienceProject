{
 "cells": [
  {
   "metadata": {
    "ExecuteTime": {
     "end_time": "2024-12-09T17:09:08.277350Z",
     "start_time": "2024-12-09T17:09:08.145781Z"
    }
   },
   "cell_type": "code",
   "source": [
    "import pandas as pd\n",
    "import numpy as np\n",
    "import matplotlib.pyplot as plt\n",
    "import seaborn as sns\n",
    "from sklearn.model_selection import train_test_split\n",
    "from sklearn.linear_model import LogisticRegression\n",
    "from sklearn.ensemble import RandomForestClassifier\n",
    "from sklearn.model_selection import RepeatedStratifiedKFold, RandomizedSearchCV\n",
    "from scipy.stats import loguniform\n",
    "from sklearn.metrics import accuracy_score, confusion_matrix\n",
    "import joblib  # For saving models\n",
    "import warnings\n",
    "\n",
    "warnings.filterwarnings('ignore')\n",
    "sns.set_theme(style='darkgrid')\n",
    "\n",
    "# Function to generate features from stock data\n",
    "def feature_stock_data(file_path):\n",
    "    data = pd.read_csv(file_path)\n",
    "    newfeatures = pd.DataFrame()\n",
    "    newfeatures['Target'] = data['Close'].rolling(window=2).apply(lambda x: x.iloc[1] > x.iloc[0])\n",
    "    newfeatures['Target'].fillna(0, inplace=True)\n",
    "    data = data.shift(1)\n",
    "    data['Target'] = newfeatures['Target']\n",
    "    print(data)\n",
    "    return data.iloc[1:]\n",
    "\n",
    "# Logistic Regression analysis and save model\n",
    "def logistic_regression_analysis(data, save_path):\n",
    "    predictors = ['Open', 'High', 'Low', 'Close', 'Volume']\n",
    "    X_train, X_test, y_train, y_test = train_test_split(data[predictors], data['Target'], test_size=0.2, random_state=5)\n",
    "\n",
    "    # Hyperparameter selection for Logistic Regression\n",
    "    def select_hyperparameters_logistic_regression(X_train, y_train):\n",
    "        model = LogisticRegression()\n",
    "        space = {\n",
    "            'solver': ['newton-cg', 'lbfgs', 'liblinear'],\n",
    "            'penalty': ['none', 'l1', 'l2', 'elasticnet'],\n",
    "            'C': loguniform(1e-5, 100)\n",
    "        }\n",
    "        cv = RepeatedStratifiedKFold(n_splits=10, n_repeats=3, random_state=1)\n",
    "        search = RandomizedSearchCV(model, space, n_iter=500, scoring='accuracy', n_jobs=-1, cv=cv, random_state=1)\n",
    "        result = search.fit(X_train, y_train)\n",
    "        return result.best_params_\n",
    "\n",
    "    # Logistic Regression with hyperparameters\n",
    "    def logistic_regression_hyperparameter(X_train, y_train, X_test, y_test, params):\n",
    "        model = LogisticRegression(C=params['C'], solver=params['solver'], penalty=params['penalty'])\n",
    "        model.fit(X_train, y_train)\n",
    "        y_pred = model.predict(X_test)\n",
    "        cm = confusion_matrix(y_test, y_pred)\n",
    "        sns.heatmap(pd.DataFrame(cm, columns=['Predicted:0', 'Predicted:1'], index=['Actual:0', 'Actual:1']), annot=True, fmt='d', cmap=\"YlGnBu\")\n",
    "        plt.show()\n",
    "        # Save model\n",
    "        joblib.dump(model, save_path)\n",
    "        print(f\"Logistic Regression model saved to {save_path}\")\n",
    "        return accuracy_score(y_test, y_pred)\n",
    "\n",
    "    best_params_lr = select_hyperparameters_logistic_regression(X_train, y_train)\n",
    "    result_logistic = logistic_regression_hyperparameter(X_train, y_train, X_test, y_test, best_params_lr)\n",
    "    print(\"Logistic Regression Accuracy (default predictors):\", round(result_logistic * 100, 2), \"%\")\n",
    "\n",
    "# Random Forest analysis and save model\n",
    "def random_forest_analysis(data, save_path):\n",
    "    predictors = ['Open', 'High', 'Low', 'Close', 'Volume']\n",
    "    X_train, X_test, y_train, y_test = train_test_split(data[predictors], data['Target'], test_size=0.2, random_state=5)\n",
    "\n",
    "    # Hyperparameter selection for Random Forest\n",
    "    def select_hyperparameters_random_forest(X_train, y_train):\n",
    "        model = RandomForestClassifier()\n",
    "        space = {\n",
    "            'n_estimators': [10, 100, 1000],\n",
    "            'max_features': ['sqrt', 'log2']\n",
    "        }\n",
    "        cv = RepeatedStratifiedKFold(n_splits=10, n_repeats=3, random_state=1)\n",
    "        search = RandomizedSearchCV(model, space, n_iter=500, scoring='accuracy', n_jobs=-1, cv=cv, random_state=1)\n",
    "        result = search.fit(X_train, y_train)\n",
    "        return result.best_params_\n",
    "\n",
    "    # Random Forest with hyperparameters\n",
    "    def random_forest_hyperparameter(X_train, y_train, X_test, y_test, params):\n",
    "        model = RandomForestClassifier(n_estimators=params['n_estimators'], max_features=params['max_features'])\n",
    "        model.fit(X_train, y_train)\n",
    "        y_pred = model.predict(X_test)\n",
    "        cm = confusion_matrix(y_test, y_pred)\n",
    "        sns.heatmap(pd.DataFrame(cm, columns=['Predicted:0', 'Predicted:1'], index=['Actual:0', 'Actual:1']), annot=True, fmt='d', cmap=\"YlGnBu\")\n",
    "        plt.show()\n",
    "        # Save model\n",
    "        joblib.dump(model, save_path)\n",
    "        print(f\"Random Forest model saved to {save_path}\")\n",
    "        return accuracy_score(y_test, y_pred)\n",
    "\n",
    "    best_params_rf = select_hyperparameters_random_forest(X_train, y_train)\n",
    "    result_random = random_forest_hyperparameter(X_train, y_train, X_test, y_test, best_params_rf)\n",
    "    print(\"Random Forest Accuracy (default predictors):\", round(result_random * 100, 2), \"%\")\n",
    "\n",
    "\n",
    "\n",
    "\n",
    "\n"
   ],
   "id": "cb75a3852ea92307",
   "outputs": [],
   "execution_count": 1
  },
  {
   "metadata": {
    "ExecuteTime": {
     "end_time": "2024-12-09T17:09:12.935773Z",
     "start_time": "2024-12-09T17:09:12.887560Z"
    }
   },
   "cell_type": "code",
   "source": "data = feature_stock_data('../clean_data/clean_dataAAPL.csv')",
   "id": "a714af2d4aa706c",
   "outputs": [
    {
     "name": "stdout",
     "output_type": "stream",
     "text": [
      "                           Date        Open        High         Low  \\\n",
      "0                          None         NaN         NaN         NaN   \n",
      "1     2016-01-04 00:00:00-05:00   23.240000   23.865109   23.101842   \n",
      "2     2016-01-05 00:00:00-05:00   23.951175   23.973824   23.194704   \n",
      "3     2016-01-06 00:00:00-05:00   22.775699   23.185645   22.619423   \n",
      "4     2016-01-07 00:00:00-05:00   22.349904   22.678312   21.840304   \n",
      "...                         ...         ...         ...         ...   \n",
      "2238  2024-11-21 00:00:00-05:00  228.880005  230.160004  225.710007   \n",
      "2239  2024-11-22 00:00:00-05:00  228.059998  230.720001  228.059998   \n",
      "2240  2024-11-25 00:00:00-05:00  231.460007  233.250000  229.740005   \n",
      "2241  2024-11-26 00:00:00-05:00  233.330002  235.570007  233.330002   \n",
      "2242  2024-11-27 00:00:00-05:00  234.470001  235.690002  233.809998   \n",
      "\n",
      "           Close       Volume  Target  \n",
      "0            NaN          NaN     0.0  \n",
      "1      23.860579  270597600.0     0.0  \n",
      "2      23.262650  223164000.0     0.0  \n",
      "3      22.807407  273829600.0     0.0  \n",
      "4      21.844833  324377600.0     1.0  \n",
      "...          ...          ...     ...  \n",
      "2238  228.520004   42108300.0     1.0  \n",
      "2239  229.869995   38168300.0     1.0  \n",
      "2240  232.869995   90152800.0     1.0  \n",
      "2241  235.059998   45986200.0     0.0  \n",
      "2242  234.929993   33498400.0     1.0  \n",
      "\n",
      "[2243 rows x 7 columns]\n"
     ]
    }
   ],
   "execution_count": 2
  },
  {
   "metadata": {
    "ExecuteTime": {
     "end_time": "2024-12-09T05:59:12.913940Z",
     "start_time": "2024-12-09T05:58:56.120583Z"
    }
   },
   "cell_type": "code",
   "source": "logistic_regression_analysis(data, \"logistic_regression_model.pkl\")",
   "id": "efd35e51dfe661cd",
   "outputs": [
    {
     "data": {
      "text/plain": [
       "<Figure size 640x480 with 2 Axes>"
      ],
      "image/png": "[encoded data removed]"
     },
     "metadata": {},
     "output_type": "display_data"
    },
    {
     "name": "stdout",
     "output_type": "stream",
     "text": [
      "Logistic Regression model saved to logistic_regression_model.pkl\n",
      "Logistic Regression Accuracy (default predictors): 54.34 %\n"
     ]
    }
   ],
   "execution_count": 3
  },
  {
   "metadata": {
    "ExecuteTime": {
     "end_time": "2024-12-09T17:10:37.983992Z",
     "start_time": "2024-12-09T17:09:18.537537Z"
    }
   },
   "cell_type": "code",
   "source": "random_forest_analysis(data, \"random_forest_model.pkl\")",
   "id": "75376f0de21172d6",
   "outputs": [
    {
     "data": {
      "text/plain": [
       "<Figure size 640x480 with 2 Axes>"
      ],
      "image/png": "[encoded data removed]"
     },
     "metadata": {},
     "output_type": "display_data"
    },
    {
     "name": "stdout",
     "output_type": "stream",
     "text": [
      "Random Forest model saved to random_forest_model.pkl\n",
      "Random Forest Accuracy (default predictors): 48.33 %\n"
     ]
    }
   ],
   "execution_count": 3
  }
 ],
 "metadata": {
  "kernelspec": {
   "display_name": "Python 3",
   "language": "python",
   "name": "python3"
  },
  "language_info": {
   "codemirror_mode": {
    "name": "ipython",
    "version": 2
   },
   "file_extension": ".py",
   "mimetype": "text/x-python",
   "name": "python",
   "nbconvert_exporter": "python",
   "pygments_lexer": "ipython2",
   "version": "2.7.6"
  }
 },
 "nbformat": 4,
 "nbformat_minor": 5
}
