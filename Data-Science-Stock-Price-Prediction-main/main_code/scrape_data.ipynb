{
 "cells": [
  {
   "cell_type": "code",
   "id": "initial_id",
   "metadata": {
    "collapsed": true,
    "ExecuteTime": {
     "end_time": "2024-12-13T07:53:04.160406Z",
     "start_time": "2024-12-13T07:52:47.891831Z"
    }
   },
   "source": [
    "import os\n",
    "import yfinance as yf\n",
    "\n",
    "# List of stock tickers\n",
    "tickers = [\"AMZN\", \"AAPL\", \"NVDA\", \"MSFT\", \"GOOG\", \"META\", \"TSLA\", \"WMT\", \"JPM\", \"NFLX\"]\n",
    "\n",
    "# Directory to save the CSV files (raw_data folder is one level up from main_code)\n",
    "output_dir = \"./raw_data\"  # Adjusted to go one level up to access the raw_data folder\n",
    "os.makedirs(output_dir, exist_ok=True)  # Create directory if it doesn't exist\n",
    "\n",
    "# Start and end dates for the data\n",
    "start_date = \"2016-01-01\"\n",
    "end_date = \"2024-12-01\"\n",
    "\n",
    "# Fetch data for each ticker and save to CSV\n",
    "for ticker in tickers:\n",
    "    print(f\"Fetching data for {ticker} from {start_date} to {end_date}...\")\n",
    "    stock = yf.Ticker(ticker)\n",
    "    # Fetch historical data for the specified date range\n",
    "    stock_data = stock.history(start=start_date, end=end_date)\n",
    "    \n",
    "    # File path to save the data in raw_data folder\n",
    "    file_path = os.path.join(output_dir, f\"data{ticker}.csv\")\n",
    "    \n",
    "    # Save to CSV\n",
    "    stock_data.to_csv(file_path)\n",
    "    print(f\"Data for {ticker} saved to {file_path}\")\n",
    "\n",
    "print(\"All stock data saved successfully!\")\n"
   ],
   "outputs": [
    {
     "name": "stdout",
     "output_type": "stream",
     "text": [
      "Fetching data for AMZN from 2016-01-01 to 2024-12-01...\n",
      "Data for AMZN saved to ./raw_data\\dataAMZN.csv\n",
      "Fetching data for AAPL from 2016-01-01 to 2024-12-01...\n",
      "Data for AAPL saved to ./raw_data\\dataAAPL.csv\n",
      "Fetching data for NVDA from 2016-01-01 to 2024-12-01...\n",
      "Data for NVDA saved to ./raw_data\\dataNVDA.csv\n",
      "Fetching data for MSFT from 2016-01-01 to 2024-12-01...\n",
      "Data for MSFT saved to ./raw_data\\dataMSFT.csv\n",
      "Fetching data for GOOG from 2016-01-01 to 2024-12-01...\n",
      "Data for GOOG saved to ./raw_data\\dataGOOG.csv\n",
      "Fetching data for META from 2016-01-01 to 2024-12-01...\n",
      "Data for META saved to ./raw_data\\dataMETA.csv\n",
      "Fetching data for TSLA from 2016-01-01 to 2024-12-01...\n",
      "Data for TSLA saved to ./raw_data\\dataTSLA.csv\n",
      "Fetching data for WMT from 2016-01-01 to 2024-12-01...\n",
      "Data for WMT saved to ./raw_data\\dataWMT.csv\n",
      "Fetching data for JPM from 2016-01-01 to 2024-12-01...\n",
      "Data for JPM saved to ./raw_data\\dataJPM.csv\n",
      "Fetching data for NFLX from 2016-01-01 to 2024-12-01...\n",
      "Data for NFLX saved to ./raw_data\\dataNFLX.csv\n",
      "All stock data saved successfully!\n"
     ]
    }
   ],
   "execution_count": 1
  }
 ],
 "metadata": {
  "kernelspec": {
   "display_name": "Python 3",
   "language": "python",
   "name": "python3"
  },
  "language_info": {
   "codemirror_mode": {
    "name": "ipython",
    "version": 2
   },
   "file_extension": ".py",
   "mimetype": "text/x-python",
   "name": "python",
   "nbconvert_exporter": "python",
   "pygments_lexer": "ipython2",
   "version": "2.7.6"
  }
 },
 "nbformat": 4,
 "nbformat_minor": 5
}
