{
 "cells": [
  {
   "cell_type": "markdown",
   "metadata": {},
   "source": [
    "# Thu thập dữ liệu cổ phiếu Amazon từ trang web\n",
    "https://finance.yahoo.com/quote/AMZN/history?period1=1495324800&period2=1653091200&interval=1d&filter=history&frequency=1d&includeAdjustedClose=true"
   ]
  },
  {
   "cell_type": "code",
   "metadata": {
    "ExecuteTime": {
     "end_time": "2024-11-30T10:49:46.797293Z",
     "start_time": "2024-11-30T10:49:45.584639Z"
    }
   },
   "source": [
    "from selenium import webdriver\n",
    "from webdriver_manager.chrome import ChromeDriverManager\n",
    "from selenium.webdriver.chrome.service import Service\n",
    "from selenium.webdriver.chrome.options import Options\n",
    "import pandas as pd\n",
    "from selenium.common import NoSuchElementException\n",
    "import time"
   ],
   "outputs": [],
   "execution_count": 1
  },
  {
   "cell_type": "markdown",
   "metadata": {},
   "source": [
    "    Tạo ra một webdriver để truy cập vào web với các options: web ẩn danh và window size là 1920x1080"
   ]
  },
  {
   "cell_type": "code",
   "metadata": {
    "ExecuteTime": {
     "end_time": "2024-11-30T10:49:46.809015Z",
     "start_time": "2024-11-30T10:49:46.805670Z"
    }
   },
   "source": [
    "chrome_options = Options()\n",
    "chrome_options.add_argument(\"--incognito\")\n",
    "chrome_options.add_argument(\"--window-size=1920x1080\")"
   ],
   "outputs": [],
   "execution_count": 2
  },
  {
   "metadata": {
    "ExecuteTime": {
     "end_time": "2024-11-30T10:49:57.303912Z",
     "start_time": "2024-11-30T10:49:46.813022Z"
    }
   },
   "cell_type": "code",
   "source": [
    "\n",
    "service = Service(ChromeDriverManager().install())\n",
    "driver = webdriver.Chrome(service=service, options=chrome_options)\n"
   ],
   "outputs": [],
   "execution_count": 3
  },
  {
   "cell_type": "code",
   "metadata": {
    "ExecuteTime": {
     "end_time": "2024-11-30T10:49:57.864903Z",
     "start_time": "2024-11-30T10:49:57.862350Z"
    }
   },
   "source": "",
   "outputs": [],
   "execution_count": null
  },
  {
   "cell_type": "markdown",
   "metadata": {},
   "source": [
    "    Đưa link web vào driver để lấy được dữ liệu"
   ]
  },
  {
   "cell_type": "code",
   "metadata": {
    "ExecuteTime": {
     "end_time": "2024-11-30T10:49:57.875594Z",
     "start_time": "2024-11-30T10:49:57.871401Z"
    }
   },
   "source": [
    "urls = {\n",
    "    \"Amazon\": \"https://finance.yahoo.com/quote/AMZN/history/?period1=1449792000&period2=1731370523\",\n",
    "    \"Tesla\": \"https://finance.yahoo.com/quote/TSLA/history/?period1=1449792000&period2=1731369600\",\n",
    "    \"Microsoft\": \"https://finance.yahoo.com/quote/MSFT/history/?period1=1449792000&period2=1731369600\"\n",
    "}\n"
   ],
   "outputs": [],
   "execution_count": 4
  },
  {
   "metadata": {
    "ExecuteTime": {
     "end_time": "2024-11-30T10:49:57.935367Z",
     "start_time": "2024-11-30T10:49:57.930687Z"
    }
   },
   "cell_type": "code",
   "source": [
    "\n",
    "\n",
    "\n",
    "def scrape_data(url):\n",
    "    driver.get(url)\n",
    "    time.sleep(5)  # Allow time for the page to load\n",
    "    \n",
    "    try:\n",
    "        table_container = driver.find_element(\"css selector\", \"div.yf-j5d1ld.table-container\")\n",
    "        print(\"Table container found.\")\n",
    "    except NoSuchElementException:\n",
    "        print(\"Table container not found.\")\n",
    "        return None\n",
    "    \n",
    "    Rows = table_container.find_elements(\"tag name\", \"tr\")\n",
    "    \n",
    "    data = []\n",
    "    for row in Rows:\n",
    "        cols = row.find_elements(\"tag name\", \"td\")\n",
    "        if len(cols) == 7:  # Ensure there are exactly 7 columns\n",
    "            RowDict = {\n",
    "                \"Date\": cols[0].text.replace(',', ''),\n",
    "                \"Open\": cols[1].text.replace(',', ''),\n",
    "                \"High\": cols[2].text.replace(',', ''),\n",
    "                \"Low\": cols[3].text.replace(',', ''),\n",
    "                \"Close\": cols[4].text.replace(',', ''),\n",
    "                \"Adj Close\": cols[5].text.replace(',', ''),\n",
    "                \"Volume\": cols[6].text.replace(',', '')\n",
    "            }\n",
    "            data.append(RowDict)\n",
    "    \n",
    "    return pd.DataFrame(data)"
   ],
   "outputs": [],
   "execution_count": 5
  },
  {
   "metadata": {
    "ExecuteTime": {
     "end_time": "2024-11-30T10:57:43.546071Z",
     "start_time": "2024-11-30T10:49:57.941335Z"
    }
   },
   "cell_type": "code",
   "source": [
    "for company, url in urls.items():\n",
    "    df = scrape_data(url)\n",
    "    if df is not None and not df.empty:\n",
    "        df.to_csv(f'rawdata_{company}.csv', index=False)\n",
    "        print(f\"Data for {company} saved to rawdata_{company}.csv\")\n",
    "    else:\n",
    "        print(f\"No data found for {company}.\")\n",
    "\n",
    "# Close the driver after scraping\n",
    "driver.quit()"
   ],
   "outputs": [
    {
     "name": "stdout",
     "output_type": "stream",
     "text": [
      "Table container found.\n",
      "Data for Amazon saved to rawdata_Amazon.csv\n",
      "Table container found.\n",
      "Data for Tesla saved to rawdata_Tesla.csv\n",
      "Table container found.\n",
      "Data for Microsoft saved to rawdata_Microsoft.csv\n"
     ]
    }
   ],
   "execution_count": 6
  },
  {
   "cell_type": "markdown",
   "metadata": {},
   "source": [
    "    Dùng BeautifulSoup để tiến hành phân tích cú pháp web"
   ]
  },
  {
   "cell_type": "markdown",
   "metadata": {},
   "source": [
    "    Lấy ra thành phần table với class là 'W(100%) M(0)' lưu vào trong biến Table"
   ]
  },
  {
   "cell_type": "markdown",
   "metadata": {},
   "source": [
    "    Lấy ra các hàng có thẻ tr với class là 'BdT Bdc($seperatorColor) Ta(end) Fz(s) Whs(nw)' lưu vào trong Rows"
   ]
  },
  {
   "cell_type": "markdown",
   "metadata": {},
   "source": [
    "    Lấy dữ liệu của các cột trong từng thẻ tr"
   ]
  },
  {
   "cell_type": "markdown",
   "metadata": {},
   "source": [
    "    Chuyển dictionary extracted_data thành một Dataframe và lưu lại thành file raw_data.csv"
   ]
  }
 ],
 "metadata": {
  "interpreter": {
   "hash": "26de051ba29f2982a8de78e945f0abaf191376122a1563185a90213a26c5da77"
  },
  "kernelspec": {
   "display_name": "Python 3.10.1 64-bit",
   "language": "python",
   "name": "python3"
  },
  "language_info": {
   "codemirror_mode": {
    "name": "ipython",
    "version": 3
   },
   "file_extension": ".py",
   "mimetype": "text/x-python",
   "name": "python",
   "nbconvert_exporter": "python",
   "pygments_lexer": "ipython3",
   "version": "3.10.1"
  },
  "orig_nbformat": 4
 },
 "nbformat": 4,
 "nbformat_minor": 2
}
